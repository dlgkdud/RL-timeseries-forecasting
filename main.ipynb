{
 "cells": [
  {
   "cell_type": "code",
   "execution_count": 2,
   "metadata": {},
   "outputs": [],
   "source": [
    "import torch\n",
    "import torch.nn as nn\n",
    "import torch.optim as optim\n",
    "import torch.nn.functional as F"
   ]
  },
  {
   "cell_type": "code",
   "execution_count": 3,
   "metadata": {},
   "outputs": [
    {
     "name": "stdout",
     "output_type": "stream",
     "text": [
      "cuda\n"
     ]
    }
   ],
   "source": [
    "device = 'cuda' if torch.cuda.is_available() else 'cpu'\n",
    "print(device)\n",
    "torch.manual_seed(777)\n",
    "if device =='cuda':\n",
    "    torch.cuda.manual_seed_all(777)"
   ]
  },
  {
   "cell_type": "code",
   "execution_count": 15,
   "metadata": {},
   "outputs": [],
   "source": [
    "class Model(nn.Module):\n",
    "    def __init__(self,input_size,hidden_size,output_size,num_layers,batch_first=False):\n",
    "        assert batch_first==True, \"batch_first 값이 True일 때만 동작\"\n",
    "        \n",
    "        super().__init__()\n",
    "        self.input_size = input_size\n",
    "        self.hidden_size = hidden_size\n",
    "        self.num_layers = num_layers\n",
    "        self.output_size = output_size\n",
    "        self.rnn = nn.RNN(input_size, hidden_size, num_layers=num_layers, batch_first=False)\n",
    "        self.fc1 = nn.Linear(hidden_size, hidden_size, bias=True)\n",
    "        self.fc2 = nn.Linear(hidden_size, hidden_size, bias=True)\n",
    "        self.fc3 = nn.Linear(hidden_size, output_size, bias=True)\n",
    "        self.drop = nn.Dropout(0.25)\n",
    "        self.activ = nn.ReLU()\n",
    "\n",
    "    def forward(self, x):\n",
    "        # Reshape Input Size for batch_first=True\n",
    "        x = x.transpose(0, 1) # (B, L, I) -> (L, B, I)\n",
    "    \n",
    "        x, _status = self.rnn(x) # output x : (L, B, H)\n",
    "        x = self.activ(self.drop(self.fc1(x))) # (L, B, H) -> (L, B, H)\n",
    "        x = self.activ(self.drop(self.fc2(x))) # (L, B, H) -> (L, B, H)\n",
    "        x = self.fc3(x) # (L, B, H) -> (L, B, O)\n",
    "        \n",
    "        # Reshape Output Size for batch_first=True\n",
    "        x = x.transpose(0,1) # (L, B, O) -> (B, L, O)\n",
    "        return x"
   ]
  },
  {
   "cell_type": "code",
   "execution_count": 16,
   "metadata": {},
   "outputs": [],
   "source": [
    "epochs = 40\n",
    "learning_rate = 0.01 # or use 1e-3\n",
    "\n",
    "input_size = 1\n",
    "hidden_size = 128\n",
    "output_size = 1\n",
    "seq_len = 24\n",
    "num_layers = 4"
   ]
  },
  {
   "cell_type": "code",
   "execution_count": 17,
   "metadata": {},
   "outputs": [
    {
     "name": "stdout",
     "output_type": "stream",
     "text": [
      "Model(\n",
      "  (rnn): RNN(1, 128, num_layers=4)\n",
      "  (fc1): Linear(in_features=128, out_features=128, bias=True)\n",
      "  (drop1): Dropout(p=0.25, inplace=False)\n",
      "  (fc2): Linear(in_features=128, out_features=128, bias=True)\n",
      "  (drop2): Dropout(p=0.25, inplace=False)\n",
      "  (fc3): Linear(in_features=128, out_features=1, bias=True)\n",
      ")\n"
     ]
    }
   ],
   "source": [
    "model = Model(input_size, hidden_size, output_size, num_layers, batch_first=True).to(device)\n",
    "print(model)"
   ]
  },
  {
   "cell_type": "code",
   "execution_count": null,
   "metadata": {},
   "outputs": [],
   "source": []
  }
 ],
 "metadata": {
  "kernelspec": {
   "display_name": "reinforce",
   "language": "python",
   "name": "python3"
  },
  "language_info": {
   "codemirror_mode": {
    "name": "ipython",
    "version": 3
   },
   "file_extension": ".py",
   "mimetype": "text/x-python",
   "name": "python",
   "nbconvert_exporter": "python",
   "pygments_lexer": "ipython3",
   "version": "3.10.11"
  }
 },
 "nbformat": 4,
 "nbformat_minor": 2
}
